{
 "cells": [
  {
   "cell_type": "code",
   "execution_count": null,
   "id": "a3817bd0",
   "metadata": {},
   "outputs": [],
   "source": [
    "!pip install catboost\n",
    "!pip install lightgbm\n",
    "!pip install xgboost\n",
    "!pip install TPOT"
   ]
  },
  {
   "cell_type": "code",
   "execution_count": null,
   "id": "6ac77cb6",
   "metadata": {},
   "outputs": [],
   "source": [
    "# import packages\n",
    "import os\n",
    "import numpy as np\n",
    "import pandas as pd\n",
    "\n",
    "# TPOT\n",
    "from tpot import TPOTClassifier\n",
    "\n",
    "import catboost\n",
    "import lightgbm\n",
    "import xgboost\n",
    "import sklearn\n",
    "from sklearn.preprocessing import LabelEncoder\n",
    "import pickle\n",
    "from joblib import load, dump"
   ]
  },
  {
   "cell_type": "code",
   "execution_count": null,
   "id": "29ff9d85",
   "metadata": {},
   "outputs": [],
   "source": [
    "# # connect with Google Cloud\n",
    "# from google.colab import drive\n",
    "# drive.mount('/content/drive')\n",
    "# path = \"/content/drive/My Drive/colab/TPS May\"\n",
    "path = r'C:\\Users\\Chen\\Desktop\\Kaggle\\Classifier\\Tabular Playground Series - May 2021'\n",
    "os.chdir(path)"
   ]
  },
  {
   "cell_type": "code",
   "execution_count": null,
   "id": "3248c73a",
   "metadata": {},
   "outputs": [],
   "source": [
    "# load data\n",
    "df_train = pd.read_csv('train.csv')\n",
    "df_test = pd.read_csv('test.csv')"
   ]
  },
  {
   "cell_type": "code",
   "execution_count": null,
   "id": "86ce5bd1",
   "metadata": {},
   "outputs": [],
   "source": [
    "# target labelling\n",
    "f = LabelEncoder()\n",
    "f.fit(df_train['target'])\n",
    "y = f.transform(df_train['target'])\n",
    "y = pd.DataFrame(y).astype('int64')\n",
    "\n",
    "col = [i for i in df_train.columns if i not in ['id', 'target']]\n",
    "x = df_train[col]\n",
    "x = x.astype('int64')"
   ]
  },
  {
   "cell_type": "code",
   "execution_count": null,
   "id": "2db3b340",
   "metadata": {},
   "outputs": [],
   "source": [
    "# construct model\n",
    "PROJECT_NAME = 'tpot-20210529'\n",
    "gen = 100\n",
    "cv = 10\n",
    "stop = int(gen/5)\n",
    "model = TPOTRegressor(generations=gen,                    #迭代次數\n",
    "                      population_size=100,                #初始族群數\n",
    "                      offspring_size=None,                #子代族群數\n",
    "                      mutation_rate=0.9,                  #突變機率\n",
    "                      crossover_rate=0.1,                 #交配機率\n",
    "                      scoring='neg_log_loss',             #評分標準\n",
    "                      cv=cv,                              #KFold cross-validation\n",
    "                      subsample=1,                        #訓練時使用的樣本比例\n",
    "                      n_jobs=-1,                          #平行運算使用的核心數\n",
    "                      max_time_mins=None,                 #TPOT最久執行時間\n",
    "                      max_eval_time_mins=5,               #TPOT中的單一模型最久執行時間\n",
    "                      random_state=20210529,              #seed\n",
    "                      config_dict='TPOT cuML',            #TPOT搜尋最佳模型的範圍\n",
    "                      early_stop=stop,                    #連續多少世代沒進步就提早結束\n",
    "                      verbosity=2)"
   ]
  },
  {
   "cell_type": "code",
   "execution_count": null,
   "id": "2d9f4d40",
   "metadata": {},
   "outputs": [],
   "source": [
    "Model = model.fit(x, y_train)"
   ]
  },
  {
   "cell_type": "code",
   "execution_count": null,
   "id": "dc1b910e",
   "metadata": {},
   "outputs": [],
   "source": [
    "best_model = Model.fitted_pipeline_\n",
    "print(best_model)"
   ]
  },
  {
   "cell_type": "code",
   "execution_count": null,
   "id": "a071f601",
   "metadata": {},
   "outputs": [],
   "source": [
    "# save best model\n",
    "pickle.dump(best_model, open(f\"{PROJECT_NAME}.sav\", 'wb'))"
   ]
  },
  {
   "cell_type": "code",
   "execution_count": null,
   "id": "b4e255d1",
   "metadata": {},
   "outputs": [],
   "source": [
    "# load best model\n",
    "best_model = pickle.load(f\"{PROJECT_NAME}.sav\")"
   ]
  },
  {
   "cell_type": "code",
   "execution_count": null,
   "id": "807d7c62",
   "metadata": {},
   "outputs": [],
   "source": [
    "# predict probability\n",
    "x_test = df_test.drop(['id'], axis=1)\n",
    "x_test = x_test.astype('int64')\n",
    "result = best_model.predict_proba(x_test)\n",
    "print(result.head())"
   ]
  },
  {
   "cell_type": "code",
   "execution_count": null,
   "id": "732e1f5e",
   "metadata": {},
   "outputs": [],
   "source": [
    "# submission\n",
    "sub = pd.read_csv('sample_submission.csv')\n",
    "sub[sub.columns[1:]] = result.iloc[:, 1:]\n",
    "sub.to_csv(f'{PROJECT_NAME}.csv', index=False)"
   ]
  }
 ],
 "metadata": {
  "kernelspec": {
   "display_name": "Python 3",
   "language": "python",
   "name": "python3"
  },
  "language_info": {
   "codemirror_mode": {
    "name": "ipython",
    "version": 3
   },
   "file_extension": ".py",
   "mimetype": "text/x-python",
   "name": "python",
   "nbconvert_exporter": "python",
   "pygments_lexer": "ipython3",
   "version": "3.7.9"
  }
 },
 "nbformat": 4,
 "nbformat_minor": 5
}
