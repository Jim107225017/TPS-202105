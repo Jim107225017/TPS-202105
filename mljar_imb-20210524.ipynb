{
 "cells": [
  {
   "cell_type": "code",
   "execution_count": null,
   "id": "ca967641",
   "metadata": {},
   "outputs": [],
   "source": [
    "# install packages\n",
    "!pip install catboost\n",
    "!pip install xgboost\n",
    "!pip install lightgbm\n",
    "!pip install mljar-supervised"
   ]
  },
  {
   "cell_type": "code",
   "execution_count": 1,
   "id": "e11f3908",
   "metadata": {
    "collapsed": true
   },
   "outputs": [
    {
     "name": "stderr",
     "output_type": "stream",
     "text": [
      "C:\\Users\\Chen\\anaconda3\\envs\\ML\\lib\\site-packages\\numpy\\_distributor_init.py:32: UserWarning: loaded more than 1 DLL from .libs:\n",
      "C:\\Users\\Chen\\anaconda3\\envs\\ML\\lib\\site-packages\\numpy\\.libs\\libopenblas.NOIJJG62EMASZI6NYURL6JBKM4EVBGM7.gfortran-win_amd64.dll\n",
      "C:\\Users\\Chen\\anaconda3\\envs\\ML\\lib\\site-packages\\numpy\\.libs\\libopenblas.WCDJNK7YVMPZQ2ME2ZZHJJRJ3JIKNDB7.gfortran-win_amd64.dll\n",
      "  stacklevel=1)\n"
     ]
    }
   ],
   "source": [
    "# import packages\n",
    "import os\n",
    "import numpy as np\n",
    "import pandas as pd\n",
    "\n",
    "# mljar\n",
    "from supervised.automl import AutoML\n",
    "\n",
    "import catboost\n",
    "import lightgbm\n",
    "import xgboost\n",
    "\n",
    "from sklearn.preprocessing import LabelEncoder\n",
    "from imblearn.under_sampling import RandomUnderSampler, NearMiss\n",
    "from joblib import load, dump"
   ]
  },
  {
   "cell_type": "code",
   "execution_count": 2,
   "id": "1d9bb2b6",
   "metadata": {},
   "outputs": [],
   "source": [
    "# # connect with Google Cloud\n",
    "# from google.colab import drive\n",
    "# drive.mount('/content/drive')\n",
    "# path = \"/content/drive/My Drive/colab/TPS May\"\n",
    "path = r'C:\\Users\\Chen\\Desktop\\Kaggle\\Classifier\\Tabular Playground Series - May 2021'\n",
    "os.chdir(path)"
   ]
  },
  {
   "cell_type": "code",
   "execution_count": 3,
   "id": "36161093",
   "metadata": {},
   "outputs": [],
   "source": [
    "# load data\n",
    "df_train = pd.read_csv('train.csv')\n",
    "df_test = pd.read_csv('test.csv')"
   ]
  },
  {
   "cell_type": "code",
   "execution_count": 4,
   "id": "6bf6c6bf",
   "metadata": {},
   "outputs": [],
   "source": [
    "# target labelling\n",
    "f = LabelEncoder()\n",
    "f.fit(df_train['target'])\n",
    "y = f.transform(df_train['target'])\n",
    "y = pd.DataFrame(y).astype('int64')\n",
    "\n",
    "col = [i for i in df_train.columns if i not in ['id', 'target']]\n",
    "x = df_train[col]\n",
    "x = x.astype('int64')"
   ]
  },
  {
   "cell_type": "code",
   "execution_count": 5,
   "id": "367fd3a7",
   "metadata": {},
   "outputs": [
    {
     "data": {
      "text/plain": [
       "0    8490\n",
       "1    8490\n",
       "2    8490\n",
       "3    8490\n",
       "dtype: int64"
      ]
     },
     "execution_count": 5,
     "metadata": {},
     "output_type": "execute_result"
    }
   ],
   "source": [
    "# Under sampling\n",
    "un_samp = RandomUnderSampler(random_state=20210524)\n",
    "# un_samp = NearMiss()\n",
    "x_new, y_new = un_samp.fit_resample(x, y)\n",
    "y_new.value_counts()"
   ]
  },
  {
   "cell_type": "code",
   "execution_count": 10,
   "id": "fdf0abb8",
   "metadata": {},
   "outputs": [
    {
     "name": "stdout",
     "output_type": "stream",
     "text": [
      "   feature_0  feature_1  feature_2  feature_3  feature_4  feature_5  \\\n",
      "0          0          0          0          0          2          1   \n",
      "1          0          0          0          0          0          0   \n",
      "2          0          0          0          1          0          0   \n",
      "3          0          0          0          0          0          1   \n",
      "4          0          0          0          0          0          1   \n",
      "\n",
      "   feature_6  feature_7  feature_8  feature_9  ...  feature_40  feature_41  \\\n",
      "0          0          0          0          0  ...           0           0   \n",
      "1          0          0          0          2  ...           0           0   \n",
      "2          0          0          0          2  ...           0           0   \n",
      "3          0          0          0          0  ...           0           0   \n",
      "4          0          0          0          0  ...           0           0   \n",
      "\n",
      "   feature_42  feature_43  feature_44  feature_45  feature_46  feature_47  \\\n",
      "0           0           0           0           0           0           0   \n",
      "1           1           0           0           0           0          13   \n",
      "2           0           0           0           0           2           0   \n",
      "3           0           0           0           0           0           0   \n",
      "4           0           0           0           0           0           0   \n",
      "\n",
      "   feature_48  feature_49  \n",
      "0           0           0  \n",
      "1           2           0  \n",
      "2           0           0  \n",
      "3           0           0  \n",
      "4           0           0  \n",
      "\n",
      "[5 rows x 50 columns]\n",
      "   0\n",
      "0  0\n",
      "1  0\n",
      "2  0\n",
      "3  0\n",
      "4  0\n"
     ]
    }
   ],
   "source": [
    "print(x_new.head())\n",
    "print(y_new.head())"
   ]
  },
  {
   "cell_type": "code",
   "execution_count": 11,
   "id": "2b77ea40",
   "metadata": {},
   "outputs": [],
   "source": [
    "# construct model\n",
    "# AutoML : mljar\n",
    "RESULTS_PATH = 'mljar-20210524'\n",
    "\n",
    "cv = {\"validation_type\": \"kfold\",\n",
    "      \"k_folds\": 5,\n",
    "      \"shuffle\": True,\n",
    "      \"stratify\": True,\n",
    "      \"random_seed\": 42}\n",
    "\n",
    "automl = AutoML(results_path=RESULTS_PATH,\n",
    "                mode=\"Optuna\",                          # or 'Explain', 'Perform', 'Compete'\n",
    "                ml_task='multiclass_classification',   # or 'auto', 'binary_classification', 'regression'\n",
    "                algorithms=['Baseline', 'Linear', 'Decision Tree', 'Random Forest', 'Extra Trees', 'LightGBM', 'Xgboost', 'CatBoost', 'Neural Network', 'Nearest Neighbors'],\n",
    "                train_ensemble=True,\n",
    "                stack_models=True,\n",
    "                eval_metric='logloss',\n",
    "                validation_strategy=cv,\n",
    "                golden_features=True,\n",
    "                boost_on_errors=True,\n",
    "                optuna_time_budget=10*60,\n",
    "                total_time_limit=1*60*60,\n",
    "                optuna_verbose=False,\n",
    "                n_jobs=-1,\n",
    "                random_state=42)"
   ]
  },
  {
   "cell_type": "code",
   "execution_count": 12,
   "id": "94941da5",
   "metadata": {},
   "outputs": [
    {
     "name": "stdout",
     "output_type": "stream",
     "text": [
      "Linear algorithm was disabled.\n",
      "AutoML directory: mljar-20210524\n",
      "Expected computing time:\n",
      "Total training time: Optuna + ML training = 9000 seconds\n",
      "Total Optuna time: len(algorithms) * optuna_time_budget = 5400 seconds\n",
      "Total ML model training time: 3600 seconds\n",
      "The task is multiclass_classification with evaluation metric logloss\n",
      "AutoML will use algorithms: ['Baseline', 'Decision Tree', 'Random Forest', 'Extra Trees', 'LightGBM', 'Xgboost', 'CatBoost', 'Neural Network', 'Nearest Neighbors']\n",
      "AutoML will stack models\n",
      "AutoML will ensemble availabe models\n",
      "AutoML steps: ['simple_algorithms', 'default_algorithms', 'golden_features', 'boost_on_errors', 'ensemble', 'stack', 'ensemble_stacked']\n",
      "* Step simple_algorithms will try to check up to 2 models\n",
      "1_Baseline logloss 1.386294 trained in 6.86 seconds\n",
      "2_DecisionTree logloss 1.388248 trained in 6.1 seconds\n",
      "* Step default_algorithms will try to check up to 7 models\n",
      "3_Optuna_LightGBM logloss 1.361028 trained in 152.22 seconds\n",
      "4_Optuna_Xgboost logloss 1.361159 trained in 93.59 seconds\n",
      "5_Optuna_CatBoost logloss 1.36059 trained in 97.98 seconds\n",
      "Skip golden_features because of the time limit.\n",
      "* Step boost_on_errors will try to check up to 1 model\n",
      "5_Optuna_CatBoost_BoostOnErrors logloss 1.365337 trained in 77.38 seconds\n",
      "* Step ensemble will try to check up to 1 model\n",
      "Ensemble logloss 1.359572 trained in 6.8 seconds\n",
      "* Step stack will try to check up to 3 models\n",
      "5_Optuna_CatBoost_Stacked logloss 1.359559 trained in 42.85 seconds\n",
      "3_Optuna_LightGBM_Stacked logloss 1.362758 trained in 83.92 seconds\n",
      "4_Optuna_Xgboost_Stacked logloss 1.359728 trained in 34.62 seconds\n",
      "* Step ensemble_stacked will try to check up to 1 model\n",
      "Ensemble_Stacked logloss 1.358859 trained in 8.69 seconds\n"
     ]
    },
    {
     "name": "stderr",
     "output_type": "stream",
     "text": [
      "An input array is constant; the correlation coefficent is not defined.\n"
     ]
    },
    {
     "name": "stdout",
     "output_type": "stream",
     "text": [
      "AutoML fit time: 2487.04 seconds\n",
      "AutoML best model: Ensemble_Stacked\n"
     ]
    },
    {
     "data": {
      "text/plain": [
       "AutoML(algorithms=['Baseline', 'Linear', 'Decision Tree', 'Random Forest',\n",
       "                   'Extra Trees', 'LightGBM', 'Xgboost', 'CatBoost',\n",
       "                   'Neural Network', 'Nearest Neighbors'],\n",
       "       boost_on_errors=True, eval_metric='logloss', golden_features=True,\n",
       "       ml_task='multiclass_classification', mode='Optuna',\n",
       "       optuna_time_budget=600, optuna_verbose=False, random_state=42,\n",
       "       results_path='mljar-20210524', stack_models=True,\n",
       "       validation_strategy={'k_folds': 5, 'random_seed': 42, 'shuffle': True,\n",
       "                            'stratify': True, 'validation_type': 'kfold'})"
      ]
     },
     "execution_count": 12,
     "metadata": {},
     "output_type": "execute_result"
    }
   ],
   "source": [
    "# training model\n",
    "automl.fit(x_new, y_new)"
   ]
  },
  {
   "cell_type": "code",
   "execution_count": 13,
   "id": "2b77afaf",
   "metadata": {},
   "outputs": [],
   "source": [
    "# load well-trained model\n",
    "automl = AutoML(results_path=RESULTS_PATH)"
   ]
  },
  {
   "cell_type": "code",
   "execution_count": 14,
   "id": "38b55142",
   "metadata": {},
   "outputs": [],
   "source": [
    "# predict probability\n",
    "x_test = df_test.drop(['id'], axis=1)\n",
    "x_test = x_test.astype('int64')\n",
    "result = automl.predict_proba(x_test)"
   ]
  },
  {
   "cell_type": "code",
   "execution_count": 15,
   "id": "fc6134d1",
   "metadata": {},
   "outputs": [],
   "source": [
    "# submission\n",
    "sub = pd.read_csv('sample_submission.csv')\n",
    "sub[sub.columns[1:]] = result\n",
    "sub.to_csv(f'{RESULTS_PATH}.csv', index=False)"
   ]
  }
 ],
 "metadata": {
  "kernelspec": {
   "display_name": "Python 3",
   "language": "python",
   "name": "python3"
  },
  "language_info": {
   "codemirror_mode": {
    "name": "ipython",
    "version": 3
   },
   "file_extension": ".py",
   "mimetype": "text/x-python",
   "name": "python",
   "nbconvert_exporter": "python",
   "pygments_lexer": "ipython3",
   "version": "3.7.9"
  }
 },
 "nbformat": 4,
 "nbformat_minor": 5
}
