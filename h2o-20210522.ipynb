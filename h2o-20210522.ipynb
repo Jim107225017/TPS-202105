{
 "cells": [
  {
   "cell_type": "code",
   "execution_count": null,
   "id": "f41d3218",
   "metadata": {},
   "outputs": [],
   "source": [
    "# install packages\n",
    "!pip install catboost\n",
    "!pip install xgboost\n",
    "!pip install lightgbm\n",
    "!pip install h2o"
   ]
  },
  {
   "cell_type": "code",
   "execution_count": 1,
   "id": "1ba3ec97",
   "metadata": {
    "scrolled": false
   },
   "outputs": [
    {
     "name": "stderr",
     "output_type": "stream",
     "text": [
      "C:\\Users\\Chen\\anaconda3\\envs\\ML\\lib\\site-packages\\numpy\\_distributor_init.py:32: UserWarning: loaded more than 1 DLL from .libs:\n",
      "C:\\Users\\Chen\\anaconda3\\envs\\ML\\lib\\site-packages\\numpy\\.libs\\libopenblas.NOIJJG62EMASZI6NYURL6JBKM4EVBGM7.gfortran-win_amd64.dll\n",
      "C:\\Users\\Chen\\anaconda3\\envs\\ML\\lib\\site-packages\\numpy\\.libs\\libopenblas.WCDJNK7YVMPZQ2ME2ZZHJJRJ3JIKNDB7.gfortran-win_amd64.dll\n",
      "  stacklevel=1)\n"
     ]
    }
   ],
   "source": [
    "# import packages\n",
    "import os\n",
    "import numpy as np\n",
    "import pandas as pd\n",
    "\n",
    "# H2O\n",
    "import h2o\n",
    "from h2o.automl import H2OAutoML\n",
    "\n",
    "import catboost\n",
    "import lightgbm\n",
    "import xgboost\n",
    "\n",
    "from sklearn.preprocessing import LabelEncoder\n",
    "from joblib import load, dump"
   ]
  },
  {
   "cell_type": "code",
   "execution_count": 1,
   "id": "98da66ea",
   "metadata": {
    "collapsed": true
   },
   "outputs": [
    {
     "ename": "ModuleNotFoundError",
     "evalue": "No module named 'google.colab'",
     "output_type": "error",
     "traceback": [
      "\u001b[1;31m---------------------------------------------------------------------------\u001b[0m",
      "\u001b[1;31mModuleNotFoundError\u001b[0m                       Traceback (most recent call last)",
      "\u001b[1;32m<ipython-input-1-2db4377ce099>\u001b[0m in \u001b[0;36m<module>\u001b[1;34m\u001b[0m\n\u001b[0;32m      1\u001b[0m \u001b[1;31m# connect with Google Cloud\u001b[0m\u001b[1;33m\u001b[0m\u001b[1;33m\u001b[0m\u001b[1;33m\u001b[0m\u001b[0m\n\u001b[1;32m----> 2\u001b[1;33m \u001b[1;32mfrom\u001b[0m \u001b[0mgoogle\u001b[0m\u001b[1;33m.\u001b[0m\u001b[0mcolab\u001b[0m \u001b[1;32mimport\u001b[0m \u001b[0mdrive\u001b[0m\u001b[1;33m\u001b[0m\u001b[1;33m\u001b[0m\u001b[0m\n\u001b[0m\u001b[0;32m      3\u001b[0m \u001b[0mdrive\u001b[0m\u001b[1;33m.\u001b[0m\u001b[0mmount\u001b[0m\u001b[1;33m(\u001b[0m\u001b[1;34m'/content/drive'\u001b[0m\u001b[1;33m)\u001b[0m\u001b[1;33m\u001b[0m\u001b[1;33m\u001b[0m\u001b[0m\n\u001b[0;32m      4\u001b[0m \u001b[0mpath\u001b[0m \u001b[1;33m=\u001b[0m \u001b[1;34m\"/content/drive/My Drive/colab/TPS May\"\u001b[0m\u001b[1;33m\u001b[0m\u001b[1;33m\u001b[0m\u001b[0m\n\u001b[0;32m      5\u001b[0m \u001b[0mos\u001b[0m\u001b[1;33m.\u001b[0m\u001b[0mchdir\u001b[0m\u001b[1;33m(\u001b[0m\u001b[0mpath\u001b[0m\u001b[1;33m)\u001b[0m\u001b[1;33m\u001b[0m\u001b[1;33m\u001b[0m\u001b[0m\n",
      "\u001b[1;31mModuleNotFoundError\u001b[0m: No module named 'google.colab'"
     ]
    }
   ],
   "source": [
    "# # connect with Google Cloud\n",
    "# from google.colab import drive\n",
    "# drive.mount('/content/drive')\n",
    "# path = \"/content/drive/My Drive/colab/TPS May\"\n",
    "path = r'C:\\Users\\Chen\\Desktop\\Kaggle\\Classifier\\Tabular Playground Series - May 2021'\n",
    "os.chdir(path)"
   ]
  },
  {
   "cell_type": "code",
   "execution_count": null,
   "id": "eac58004",
   "metadata": {},
   "outputs": [],
   "source": [
    "# load data\n",
    "df_train = pd.read_csv('train.csv')\n",
    "df_test = pd.read_csv('test.csv')"
   ]
  },
  {
   "cell_type": "code",
   "execution_count": null,
   "id": "867b6cb7",
   "metadata": {},
   "outputs": [],
   "source": [
    "# Initialize and Connect to H2O\n",
    "h2o.init()\n",
    "\n",
    "hof_train = h2o.H2OFrame(df_train.copy())\n",
    "hof_test = h2o.H2OFrame(df_test.copy())\n",
    "\n",
    "feature_col = [i for i in df_train.columns if i not in ['id', 'target']]\n",
    "target_col = 'target'\n",
    "\n",
    "# for binary or multiclass\n",
    "hof_train[target_col] = hof_train[target_col].asfactor()\n",
    "\n",
    "# Warnings : Xgboost is not supported on windows\n",
    "h2o.estimators.xgboost.H2OXGBoostEstimator.available()"
   ]
  },
  {
   "cell_type": "code",
   "execution_count": null,
   "id": "8a771fa9",
   "metadata": {},
   "outputs": [],
   "source": [
    "# construct model\n",
    "PROJECT_NAME = 'h2o-20210522'\n",
    "automl = H2OAutoML(project_name = PROJECT_NAME,\n",
    "                   seed=42,\n",
    "                   max_runtime_secs=8*60*60,\n",
    "                   nfolds = 5,\n",
    "                   balance_classes = True,\n",
    "                   # include_algos = ['DRF', 'GLM', 'XGBoost', 'GBM', \"DeepLearning\", 'StackedEnsemble'],\n",
    "                   exclude_algos = [\"DeepLearning\"],\n",
    "                   )"
   ]
  },
  {
   "cell_type": "code",
   "execution_count": null,
   "id": "b27311b0",
   "metadata": {},
   "outputs": [],
   "source": [
    "# training model\n",
    "automl.train(x=feature_col, \n",
    "             y=target_col, \n",
    "             training_frame=hof_train)"
   ]
  },
  {
   "cell_type": "code",
   "execution_count": null,
   "id": "43cfd68d",
   "metadata": {},
   "outputs": [],
   "source": [
    "# Save all model\n",
    "k = len(automl.leaderboard)\n",
    "for i in range(k):\n",
    "   aml = h2o.get_model(automl.leaderboard[i, 0])\n",
    "   h2o.save_model(model=aml, path=PROJECT_NAME + '/ALL_MODEL', force=True)"
   ]
  },
  {
   "cell_type": "code",
   "execution_count": null,
   "id": "7ae05bb0",
   "metadata": {},
   "outputs": [],
   "source": [
    "# save best model\n",
    "best_model_path = h2o.save_model(model=automl.leader, path=PROJECT_NAME, force=True)"
   ]
  },
  {
   "cell_type": "code",
   "execution_count": null,
   "id": "6007561e",
   "metadata": {},
   "outputs": [],
   "source": [
    "# load best model\n",
    "best_model = h2o.load_model(best_model_path)"
   ]
  },
  {
   "cell_type": "code",
   "execution_count": null,
   "id": "7374b23c",
   "metadata": {},
   "outputs": [],
   "source": [
    "# predict probability\n",
    "result = best_model.predict(hof_test).as_data_frame()\n",
    "print(result.head())"
   ]
  },
  {
   "cell_type": "code",
   "execution_count": null,
   "id": "99559082",
   "metadata": {},
   "outputs": [],
   "source": [
    "# submission\n",
    "sub = pd.read_csv('sample_submission.csv')\n",
    "sub[sub.columns[1:]] = result.iloc[:, 1:]\n",
    "sub.to_csv(f'{PROJECT_NAME}.csv', index=False)"
   ]
  },
  {
   "cell_type": "code",
   "execution_count": null,
   "id": "f3b872cc",
   "metadata": {},
   "outputs": [],
   "source": [
    "# detail\n",
    "lb = automl.leaderboard \n",
    "print(lb.as_data_frame())"
   ]
  },
  {
   "cell_type": "code",
   "execution_count": null,
   "id": "9f467c35",
   "metadata": {},
   "outputs": [],
   "source": [
    "# 關閉H2O\n",
    "h2o.shutdown()"
   ]
  }
 ],
 "metadata": {
  "kernelspec": {
   "display_name": "Python 3",
   "language": "python",
   "name": "python3"
  },
  "language_info": {
   "codemirror_mode": {
    "name": "ipython",
    "version": 3
   },
   "file_extension": ".py",
   "mimetype": "text/x-python",
   "name": "python",
   "nbconvert_exporter": "python",
   "pygments_lexer": "ipython3",
   "version": "3.7.9"
  }
 },
 "nbformat": 4,
 "nbformat_minor": 5
}
