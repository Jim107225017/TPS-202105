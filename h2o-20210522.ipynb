{
 "cells": [
  {
   "cell_type": "code",
   "execution_count": null,
   "id": "2f80a10f",
   "metadata": {},
   "outputs": [],
   "source": [
    "# install packages\n",
    "!pip install catboost\n",
    "!pip install xgboost\n",
    "!pip install lightgbm\n",
    "!pip install h2o\n",
    "!pip install wandb"
   ]
  },
  {
   "cell_type": "code",
   "execution_count": null,
   "id": "af63591b",
   "metadata": {},
   "outputs": [],
   "source": [
    "# Use H2O4GPU\n",
    "# export some env variable\n",
    "!export LD_LIBRARY_PATH=$LD_LIBRARY_PATH:$CUDA_HOME/lib64/:$CUDA_HOME/lib/:$CUDA_HOME/extras/CUPTI/lib64\n",
    "\n",
    "#install python packges\n",
    "!sudo apt-get install libopenblas-dev pbzip2\n",
    "!sudo apt-get -y install libcurl4-openssl-dev libssl-dev libxml2-dev\n",
    "\n",
    "# 要重啟kernel\n",
    "# uninstall sklearn and install python packges\n",
    "!pip uninstall scikit-learn -y\n",
    "!pip install -U --force-reinstall ipykernel\n",
    "!pip install parallel\n",
    "!pip install --force-reinstall -I h2o4gpu"
   ]
  },
  {
   "cell_type": "code",
   "execution_count": null,
   "id": "f2642f45",
   "metadata": {},
   "outputs": [],
   "source": [
    "# 即時監控colab資源\n",
    "import wandb\n",
    "wandb.init()"
   ]
  },
  {
   "cell_type": "code",
   "execution_count": 2,
   "id": "1ba3ec97",
   "metadata": {
    "collapsed": true
   },
   "outputs": [
    {
     "name": "stderr",
     "output_type": "stream",
     "text": [
      "C:\\Users\\Chen\\anaconda3\\envs\\ML\\lib\\site-packages\\numpy\\_distributor_init.py:32: UserWarning: loaded more than 1 DLL from .libs:\n",
      "C:\\Users\\Chen\\anaconda3\\envs\\ML\\lib\\site-packages\\numpy\\.libs\\libopenblas.NOIJJG62EMASZI6NYURL6JBKM4EVBGM7.gfortran-win_amd64.dll\n",
      "C:\\Users\\Chen\\anaconda3\\envs\\ML\\lib\\site-packages\\numpy\\.libs\\libopenblas.WCDJNK7YVMPZQ2ME2ZZHJJRJ3JIKNDB7.gfortran-win_amd64.dll\n",
      "  stacklevel=1)\n"
     ]
    }
   ],
   "source": [
    "# import packages\n",
    "import os\n",
    "import numpy as np\n",
    "import pandas as pd\n",
    "\n",
    "# H2O\n",
    "import h2o\n",
    "from h2o.automl import H2OAutoML\n",
    "\n",
    "import catboost\n",
    "import lightgbm\n",
    "import xgboost\n",
    "\n",
    "import h2o4gpu as sklearn\n",
    "from sklearn.preprocessing import LabelEncoder\n",
    "from joblib import load, dump"
   ]
  },
  {
   "cell_type": "code",
   "execution_count": 3,
   "id": "98da66ea",
   "metadata": {},
   "outputs": [],
   "source": [
    "# connect with Google Cloud\n",
    "from google.colab import drive\n",
    "drive.mount('/content/drive')\n",
    "path = \"/content/drive/My Drive/colab/TPS May\"\n",
    "# path = r'C:\\Users\\Chen\\Desktop\\Kaggle\\Classifier\\Tabular Playground Series - May 2021'\n",
    "os.chdir(path)"
   ]
  },
  {
   "cell_type": "code",
   "execution_count": 4,
   "id": "eac58004",
   "metadata": {},
   "outputs": [],
   "source": [
    "# load data\n",
    "df_train = pd.read_csv('train.csv')\n",
    "df_test = pd.read_csv('test.csv')"
   ]
  },
  {
   "cell_type": "code",
   "execution_count": 5,
   "id": "867b6cb7",
   "metadata": {
    "collapsed": true
   },
   "outputs": [
    {
     "name": "stdout",
     "output_type": "stream",
     "text": [
      "Checking whether there is an H2O instance running at http://localhost:54321 ..... not found.\n",
      "Attempting to start a local H2O server...\n",
      "; OpenJDK 64-Bit Server VM Zulu11.43+55-CA (build 11.0.9.1+1-LTS, mixed mode)\n",
      "  Starting server from C:\\Users\\Chen\\anaconda3\\envs\\ML\\lib\\site-packages\\h2o\\backend\\bin\\h2o.jar\n",
      "  Ice root: C:\\Users\\Chen\\AppData\\Local\\Temp\\tmpz8flxsvt\n",
      "  JVM stdout: C:\\Users\\Chen\\AppData\\Local\\Temp\\tmpz8flxsvt\\h2o_Chen_started_from_python.out\n",
      "  JVM stderr: C:\\Users\\Chen\\AppData\\Local\\Temp\\tmpz8flxsvt\\h2o_Chen_started_from_python.err\n",
      "  Server is running at http://127.0.0.1:54321\n",
      "Connecting to H2O server at http://127.0.0.1:54321 ... successful.\n"
     ]
    },
    {
     "data": {
      "text/html": [
       "<div style=\"overflow:auto\"><table style=\"width:50%\"><tr><td>H2O_cluster_uptime:</td>\n",
       "<td>04 secs</td></tr>\n",
       "<tr><td>H2O_cluster_timezone:</td>\n",
       "<td>Asia/Taipei</td></tr>\n",
       "<tr><td>H2O_data_parsing_timezone:</td>\n",
       "<td>UTC</td></tr>\n",
       "<tr><td>H2O_cluster_version:</td>\n",
       "<td>3.32.1.3</td></tr>\n",
       "<tr><td>H2O_cluster_version_age:</td>\n",
       "<td>5 days </td></tr>\n",
       "<tr><td>H2O_cluster_name:</td>\n",
       "<td>H2O_from_python_Chen_8aqldl</td></tr>\n",
       "<tr><td>H2O_cluster_total_nodes:</td>\n",
       "<td>1</td></tr>\n",
       "<tr><td>H2O_cluster_free_memory:</td>\n",
       "<td>1.955 Gb</td></tr>\n",
       "<tr><td>H2O_cluster_total_cores:</td>\n",
       "<td>8</td></tr>\n",
       "<tr><td>H2O_cluster_allowed_cores:</td>\n",
       "<td>8</td></tr>\n",
       "<tr><td>H2O_cluster_status:</td>\n",
       "<td>accepting new members, healthy</td></tr>\n",
       "<tr><td>H2O_connection_url:</td>\n",
       "<td>http://127.0.0.1:54321</td></tr>\n",
       "<tr><td>H2O_connection_proxy:</td>\n",
       "<td>{\"http\": null, \"https\": null}</td></tr>\n",
       "<tr><td>H2O_internal_security:</td>\n",
       "<td>False</td></tr>\n",
       "<tr><td>H2O_API_Extensions:</td>\n",
       "<td>Amazon S3, Algos, AutoML, Core V3, TargetEncoder, Core V4</td></tr>\n",
       "<tr><td>Python_version:</td>\n",
       "<td>3.7.9 final</td></tr></table></div>"
      ],
      "text/plain": [
       "--------------------------  ---------------------------------------------------------\n",
       "H2O_cluster_uptime:         04 secs\n",
       "H2O_cluster_timezone:       Asia/Taipei\n",
       "H2O_data_parsing_timezone:  UTC\n",
       "H2O_cluster_version:        3.32.1.3\n",
       "H2O_cluster_version_age:    5 days\n",
       "H2O_cluster_name:           H2O_from_python_Chen_8aqldl\n",
       "H2O_cluster_total_nodes:    1\n",
       "H2O_cluster_free_memory:    1.955 Gb\n",
       "H2O_cluster_total_cores:    8\n",
       "H2O_cluster_allowed_cores:  8\n",
       "H2O_cluster_status:         accepting new members, healthy\n",
       "H2O_connection_url:         http://127.0.0.1:54321\n",
       "H2O_connection_proxy:       {\"http\": null, \"https\": null}\n",
       "H2O_internal_security:      False\n",
       "H2O_API_Extensions:         Amazon S3, Algos, AutoML, Core V3, TargetEncoder, Core V4\n",
       "Python_version:             3.7.9 final\n",
       "--------------------------  ---------------------------------------------------------"
      ]
     },
     "metadata": {},
     "output_type": "display_data"
    },
    {
     "name": "stdout",
     "output_type": "stream",
     "text": [
      "Parse progress: |█████████████████████████████████████████████████████████| 100%\n",
      "Parse progress: |█████████████████████████████████████████████████████████| 100%\n",
      "Cannot build an XGBoost model - no backend found.\n"
     ]
    },
    {
     "data": {
      "text/plain": [
       "False"
      ]
     },
     "execution_count": 5,
     "metadata": {},
     "output_type": "execute_result"
    }
   ],
   "source": [
    "# Initialize and Connect to H2O\n",
    "h2o.init()\n",
    "\n",
    "hof_train = h2o.H2OFrame(df_train.copy())\n",
    "hof_test = h2o.H2OFrame(df_test.copy())\n",
    "\n",
    "feature_col = [i for i in df_train.columns if i not in ['id', 'target']]\n",
    "target_col = 'target'\n",
    "\n",
    "# for binary or multiclass\n",
    "hof_train[target_col] = hof_train[target_col].asfactor()\n",
    "\n",
    "# Warnings : Xgboost is not supported on windows\n",
    "h2o.estimators.xgboost.H2OXGBoostEstimator.available()"
   ]
  },
  {
   "cell_type": "code",
   "execution_count": 6,
   "id": "8a771fa9",
   "metadata": {},
   "outputs": [],
   "source": [
    "# construct model\n",
    "PROJECT_NAME = 'h2o-20210522'\n",
    "automl = H2OAutoML(project_name = PROJECT_NAME,\n",
    "                   seed=42,\n",
    "                   max_runtime_secs=6*60*60,\n",
    "                   nfolds = 5,\n",
    "                   balance_classes = True,\n",
    "                   # include_algos = ['DRF', 'GLM', 'XGBoost', 'GBM', \"DeepLearning\", 'StackedEnsemble'],\n",
    "                   exclude_algos = [\"DeepLearning\"],\n",
    "                   )"
   ]
  },
  {
   "cell_type": "code",
   "execution_count": null,
   "id": "b27311b0",
   "metadata": {},
   "outputs": [],
   "source": [
    "# training model\n",
    "automl.train(x=feature_col, \n",
    "             y=target_col, \n",
    "             training_frame=hof_train)"
   ]
  },
  {
   "cell_type": "code",
   "execution_count": null,
   "id": "43cfd68d",
   "metadata": {},
   "outputs": [],
   "source": [
    "# Save all model\n",
    "k = len(automl.leaderboard)\n",
    "for i in range(k):\n",
    "   aml = h2o.get_model(automl.leaderboard[i, 0])\n",
    "   h2o.save_model(model=aml, path=PROJECT_NAME + '/ALL_MODEL', force=True)"
   ]
  },
  {
   "cell_type": "code",
   "execution_count": null,
   "id": "7ae05bb0",
   "metadata": {},
   "outputs": [],
   "source": [
    "# save best model\n",
    "best_model_path = h2o.save_model(model=automl.leader, path=PROJECT_NAME, force=True)"
   ]
  },
  {
   "cell_type": "code",
   "execution_count": null,
   "id": "6007561e",
   "metadata": {},
   "outputs": [],
   "source": [
    "# load best model\n",
    "best_model = h2o.load_model(best_model_path)"
   ]
  },
  {
   "cell_type": "code",
   "execution_count": null,
   "id": "7374b23c",
   "metadata": {},
   "outputs": [],
   "source": [
    "# predict probability\n",
    "result = best_model.predict(hof_test).as_data_frame()\n",
    "print(result.head())"
   ]
  },
  {
   "cell_type": "code",
   "execution_count": null,
   "id": "99559082",
   "metadata": {},
   "outputs": [],
   "source": [
    "# submission\n",
    "sub = pd.read_csv('sample_submission.csv')\n",
    "sub[sub.columns[1:]] = result.iloc[:, 1:]\n",
    "sub.to_csv(f'{PROJECT_NAME}.csv', index=False)"
   ]
  },
  {
   "cell_type": "code",
   "execution_count": null,
   "id": "f3b872cc",
   "metadata": {},
   "outputs": [],
   "source": [
    "# detail\n",
    "lb = automl.leaderboard \n",
    "print(lb.as_data_frame())"
   ]
  },
  {
   "cell_type": "code",
   "execution_count": null,
   "id": "9f467c35",
   "metadata": {},
   "outputs": [],
   "source": [
    "# 關閉H2O\n",
    "h2o.shutdown()"
   ]
  }
 ],
 "metadata": {
  "kernelspec": {
   "display_name": "Python 3",
   "language": "python",
   "name": "python3"
  },
  "language_info": {
   "codemirror_mode": {
    "name": "ipython",
    "version": 3
   },
   "file_extension": ".py",
   "mimetype": "text/x-python",
   "name": "python",
   "nbconvert_exporter": "python",
   "pygments_lexer": "ipython3",
   "version": "3.7.9"
  }
 },
 "nbformat": 4,
 "nbformat_minor": 5
}
