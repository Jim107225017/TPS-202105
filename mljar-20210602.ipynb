{
 "cells": [
  {
   "cell_type": "code",
   "execution_count": null,
   "id": "f41d3218",
   "metadata": {},
   "outputs": [],
   "source": [
    "# install packages\n",
    "!pip install catboost\n",
    "!pip install xgboost\n",
    "!pip install lightgbm\n",
    "!pip install mljar-supervised"
   ]
  },
  {
   "cell_type": "code",
   "execution_count": 2,
   "id": "1ba3ec97",
   "metadata": {},
   "outputs": [],
   "source": [
    "# import packages\n",
    "import os\n",
    "import numpy as np\n",
    "import pandas as pd\n",
    "\n",
    "# mljar\n",
    "from supervised.automl import AutoML\n",
    "\n",
    "import catboost\n",
    "import lightgbm\n",
    "import xgboost\n",
    "\n",
    "from sklearn.preprocessing import LabelEncoder, StandardScaler\n",
    "from sklearn.cluster import KMeans\n",
    "from joblib import load, dump"
   ]
  },
  {
   "cell_type": "code",
   "execution_count": 3,
   "id": "98da66ea",
   "metadata": {},
   "outputs": [],
   "source": [
    "# # connect with Google Cloud\n",
    "# from google.colab import drive\n",
    "# drive.mount('/content/drive')\n",
    "# path = \"/content/drive/My Drive/colab/TPS May\"\n",
    "path = r'C:\\Users\\Chen\\Desktop\\Kaggle\\Classifier\\Tabular Playground Series - May 2021'\n",
    "os.chdir(path)"
   ]
  },
  {
   "cell_type": "code",
   "execution_count": 4,
   "id": "eac58004",
   "metadata": {},
   "outputs": [],
   "source": [
    "# load data\n",
    "df_train = pd.read_csv('train.csv')\n",
    "df_test = pd.read_csv('test.csv')"
   ]
  },
  {
   "cell_type": "code",
   "execution_count": 5,
   "id": "d60b3ed2",
   "metadata": {},
   "outputs": [
    {
     "name": "stdout",
     "output_type": "stream",
     "text": [
      "Index(['feature_1', 'feature_3', 'feature_4', 'feature_8', 'feature_14',\n",
      "       'feature_19', 'feature_21', 'feature_24', 'feature_25', 'feature_30',\n",
      "       'feature_31', 'feature_34', 'feature_37', 'feature_40', 'feature_41',\n",
      "       'feature_45', 'feature_47', 'feature_48', 'feature_49'],\n",
      "      dtype='object')\n"
     ]
    }
   ],
   "source": [
    "df_train.drop('id', axis=1, inplace=True)\n",
    "df_test.drop('id', axis=1, inplace=True)\n",
    "\n",
    "all_data = pd.concat([df_train, df_test]).reset_index(drop=True)\n",
    "\n",
    "# The number of category in each features\n",
    "# print(all_data.nunique())\n",
    "\n",
    "# testing data have new category in below features\n",
    "print(all_data.columns[all_data.nunique() != df_train.nunique()])"
   ]
  },
  {
   "cell_type": "code",
   "execution_count": 6,
   "id": "06f70b84",
   "metadata": {},
   "outputs": [],
   "source": [
    "differ = all_data.columns[all_data.nunique() != df_train.nunique()]\n",
    "\n",
    "j = len(df_train)\n",
    "J = len(all_data)\n",
    "\n",
    "# 把新的類別當做 missing value來處理，用 mode補值\n",
    "for col in differ:\n",
    "    mo = all_data[col].mode().values[0]\n",
    "\n",
    "    list_k = df_train[col].unique()\n",
    "    num_k = df_train[col].nunique()\n",
    "\n",
    "    all_data.loc[j:, col] = [all_data.loc[i, col] if all_data.loc[i, col] in list_k else mo for i in range(j,J)]\n"
   ]
  },
  {
   "cell_type": "code",
   "execution_count": 7,
   "id": "6b422d93",
   "metadata": {},
   "outputs": [
    {
     "name": "stderr",
     "output_type": "stream",
     "text": [
      "'n_jobs' was deprecated in version 0.23 and will be removed in 1.0 (renaming of 0.25).\n"
     ]
    }
   ],
   "source": [
    "# Encoding and transform\n",
    "onehot_col = all_data.columns[(all_data.nunique() <= 15) & (all_data.columns != 'target')]\n",
    "label_col = all_data.columns[all_data.nunique() > 15]\n",
    "target = 'target'\n",
    "\n",
    "def label_encoder(c):\n",
    "    le = LabelEncoder()\n",
    "    return le.fit_transform(c)\n",
    "\n",
    "df_onehot = pd.get_dummies(all_data[onehot_col])\n",
    "\n",
    "# df_label = all_data[label_col].apply(label_encoder)\n",
    "scaler = StandardScaler()\n",
    "df_label = pd.DataFrame(scaler.fit_transform(all_data[label_col]), columns=label_col)\n",
    "\n",
    "all_data = pd.concat([df_onehot, df_label], axis=1)\n",
    "\n",
    "# create new feature by Kmean cluster\n",
    "clus = KMeans(n_clusters=4, random_state=42, max_iter=1000, n_jobs=-1)\n",
    "clus.fit(all_data)\n",
    "all_data['kmeans'] = clus.labels_"
   ]
  },
  {
   "cell_type": "code",
   "execution_count": 8,
   "id": "915e2e86",
   "metadata": {},
   "outputs": [],
   "source": [
    "# target labelling\n",
    "f = LabelEncoder()\n",
    "f.fit(df_train['target'])\n",
    "y = f.transform(df_train['target'])\n",
    "y = pd.DataFrame(y).astype('int64')\n",
    "\n",
    "x = all_data[:len(df_train)]\n",
    "x = x.astype('float64')\n",
    "\n",
    "df_test = all_data[len(df_train):, :]"
   ]
  },
  {
   "cell_type": "code",
   "execution_count": 9,
   "id": "eb77e460",
   "metadata": {},
   "outputs": [],
   "source": [
    "# construct model\n",
    "# AutoML : mljar\n",
    "RESULTS_PATH = 'mljar-20210602'\n",
    "SEED = 20210602\n",
    "\n",
    "cv = {\"validation_type\": \"kfold\",\n",
    "      \"k_folds\": 5,\n",
    "      \"shuffle\": True,\n",
    "      \"stratify\": True,\n",
    "      \"random_seed\": SEED}\n",
    "\n",
    "automl = AutoML(results_path=RESULTS_PATH,\n",
    "                mode=\"Optuna\",                          # or 'Explain', 'Perform', 'Compete'\n",
    "                ml_task='multiclass_classification',   # or 'auto', 'binary_classification', 'regression'\n",
    "                algorithms=['Baseline', 'Linear', 'Decision Tree', 'Random Forest', 'Extra Trees', 'LightGBM', 'Xgboost', 'CatBoost', 'Neural Network', 'Nearest Neighbors'],\n",
    "                train_ensemble=True,\n",
    "                stack_models=True,\n",
    "                eval_metric='logloss',\n",
    "                validation_strategy=cv,\n",
    "                golden_features=True,\n",
    "                boost_on_errors=True,\n",
    "                optuna_time_budget=2*60*60,\n",
    "                total_time_limit=8*60*60,\n",
    "                optuna_verbose=False,\n",
    "                n_jobs=-1,\n",
    "                random_state=SEED)"
   ]
  },
  {
   "cell_type": "code",
   "execution_count": 10,
   "id": "b27311b0",
   "metadata": {},
   "outputs": [
    {
     "name": "stdout",
     "output_type": "stream",
     "text": [
      "Linear algorithm was disabled.\n",
      "AutoML directory: mljar-20210602\n",
      "Expected computing time:\n",
      "Total training time: Optuna + ML training = 93600 seconds\n",
      "Total Optuna time: len(algorithms) * optuna_time_budget = 64800 seconds\n",
      "Total ML model training time: 28800 seconds\n",
      "The task is multiclass_classification with evaluation metric logloss\n",
      "AutoML will use algorithms: ['Baseline', 'Decision Tree', 'Random Forest', 'Extra Trees', 'LightGBM', 'Xgboost', 'CatBoost', 'Neural Network', 'Nearest Neighbors']\n",
      "AutoML will stack models\n",
      "AutoML will ensemble availabe models\n",
      "AutoML steps: ['simple_algorithms', 'default_algorithms', 'golden_features', 'boost_on_errors', 'ensemble', 'stack', 'ensemble_stacked']\n",
      "* Step simple_algorithms will try to check up to 2 models\n",
      "1_Baseline logloss 1.118577 trained in 6.58 seconds\n",
      "2_DecisionTree logloss 1.114949 trained in 8.16 seconds\n",
      "* Step default_algorithms will try to check up to 7 models\n",
      "3_Optuna_LightGBM logloss 1.090909 trained in 105.84 seconds\n",
      "4_Optuna_Xgboost logloss 1.091287 trained in 173.19 seconds\n",
      "* Step golden_features will try to check up to 3 models\n",
      "None 10\n",
      "Add Golden Feature: feature_13_diff_feature_22\n",
      "Add Golden Feature: feature_46_sum_feature_2\n",
      "Add Golden Feature: feature_22_diff_feature_36\n",
      "Add Golden Feature: feature_2_diff_feature_22\n",
      "Add Golden Feature: feature_40_sum_feature_14\n",
      "Add Golden Feature: feature_11_diff_feature_13\n",
      "Add Golden Feature: feature_15_sum_feature_0\n",
      "Add Golden Feature: feature_12_multiply_feature_2\n",
      "Add Golden Feature: feature_22_ratio_feature_10\n",
      "Add Golden Feature: kmeans_multiply_feature_22\n",
      "Created 10 Golden Features in 20.66 seconds.\n",
      "3_Optuna_LightGBM_GoldenFeatures logloss 1.091286 trained in 117.01 seconds\n",
      "4_Optuna_Xgboost_GoldenFeatures logloss 1.09147 trained in 187.71 seconds\n",
      "2_DecisionTree_GoldenFeatures logloss 1.114426 trained in 11.55 seconds\n",
      "* Step boost_on_errors will try to check up to 1 model\n",
      "3_Optuna_LightGBM_BoostOnErrors logloss 1.093046 trained in 80.89 seconds\n",
      "* Step ensemble will try to check up to 1 model\n",
      "Ensemble logloss 1.090607 trained in 8.4 seconds\n",
      "* Step stack will try to check up to 4 models\n",
      "3_Optuna_LightGBM_Stacked logloss 1.090128 trained in 24.09 seconds\n",
      "4_Optuna_Xgboost_Stacked logloss 1.090794 trained in 72.42 seconds\n",
      "3_Optuna_LightGBM_GoldenFeatures_Stacked logloss 1.09016 trained in 29.01 seconds\n",
      "4_Optuna_Xgboost_GoldenFeatures_Stacked logloss 1.090753 trained in 78.96 seconds\n",
      "* Step ensemble_stacked will try to check up to 1 model\n",
      "Ensemble_Stacked logloss 1.089819 trained in 13.33 seconds\n"
     ]
    },
    {
     "name": "stderr",
     "output_type": "stream",
     "text": [
      "An input array is constant; the correlation coefficent is not defined.\n"
     ]
    },
    {
     "name": "stdout",
     "output_type": "stream",
     "text": [
      "AutoML fit time: 15412.22 seconds\n",
      "AutoML best model: Ensemble_Stacked\n"
     ]
    },
    {
     "data": {
      "text/plain": [
       "AutoML(algorithms=['Baseline', 'Linear', 'Decision Tree', 'Random Forest',\n",
       "                   'Extra Trees', 'LightGBM', 'Xgboost', 'CatBoost',\n",
       "                   'Neural Network', 'Nearest Neighbors'],\n",
       "       boost_on_errors=True, eval_metric='logloss', golden_features=True,\n",
       "       ml_task='multiclass_classification', mode='Optuna',\n",
       "       optuna_time_budget=7200, optuna_verbose=False, random_state=20210602,\n",
       "       results_path='mljar-20210602', stack_models=True, total_time_limit=28800,\n",
       "       validation_strategy={'k_folds': 5, 'random_seed': 20210602,\n",
       "                            'shuffle': True, 'stratify': True,\n",
       "                            'validation_type': 'kfold'})"
      ]
     },
     "execution_count": 10,
     "metadata": {},
     "output_type": "execute_result"
    }
   ],
   "source": [
    "# training model\n",
    "automl.fit(x, y)"
   ]
  },
  {
   "cell_type": "code",
   "execution_count": 11,
   "id": "f3b872cc",
   "metadata": {},
   "outputs": [],
   "source": [
    "# load well-trained model\n",
    "automl = AutoML(results_path=RESULTS_PATH)"
   ]
  },
  {
   "cell_type": "code",
   "execution_count": 15,
   "id": "2c8f0102",
   "metadata": {},
   "outputs": [],
   "source": [
    "# predict probability\n",
    "x_test = df_test\n",
    "x_test = x_test.astype('float64')\n",
    "result = automl.predict_proba(x_test)"
   ]
  },
  {
   "cell_type": "code",
   "execution_count": 16,
   "id": "3bcb3b41",
   "metadata": {},
   "outputs": [],
   "source": [
    "# submission\n",
    "sub = pd.read_csv('sample_submission.csv')\n",
    "sub[sub.columns[1:]] = result\n",
    "sub.to_csv(f'{RESULTS_PATH}.csv', index=False)"
   ]
  },
  {
   "cell_type": "code",
   "execution_count": null,
   "id": "fb263585",
   "metadata": {},
   "outputs": [],
   "source": []
  }
 ],
 "metadata": {
  "kernelspec": {
   "display_name": "Python 3",
   "language": "python",
   "name": "python3"
  },
  "language_info": {
   "codemirror_mode": {
    "name": "ipython",
    "version": 3
   },
   "file_extension": ".py",
   "mimetype": "text/x-python",
   "name": "python",
   "nbconvert_exporter": "python",
   "pygments_lexer": "ipython3",
   "version": "3.7.9"
  }
 },
 "nbformat": 4,
 "nbformat_minor": 5
}
