{
 "cells": [
  {
   "cell_type": "code",
   "execution_count": null,
   "id": "f41d3218",
   "metadata": {},
   "outputs": [],
   "source": [
    "# install packages\n",
    "!pip install catboost\n",
    "!pip install xgboost\n",
    "!pip install lightgbm\n",
    "!pip install mljar-supervised"
   ]
  },
  {
   "cell_type": "code",
   "execution_count": 70,
   "id": "1ba3ec97",
   "metadata": {},
   "outputs": [],
   "source": [
    "# import packages\n",
    "import os\n",
    "import numpy as np\n",
    "import pandas as pd\n",
    "\n",
    "# mljar\n",
    "from supervised.automl import AutoML\n",
    "\n",
    "import catboost\n",
    "import lightgbm\n",
    "import xgboost\n",
    "\n",
    "from sklearn.preprocessing import LabelEncoder, StandardScaler\n",
    "from sklearn.cluster import KMeans\n",
    "from joblib import load, dump"
   ]
  },
  {
   "cell_type": "code",
   "execution_count": 3,
   "id": "98da66ea",
   "metadata": {},
   "outputs": [],
   "source": [
    "# # connect with Google Cloud\n",
    "# from google.colab import drive\n",
    "# drive.mount('/content/drive')\n",
    "# path = \"/content/drive/My Drive/colab/TPS May\"\n",
    "path = r'C:\\Users\\Chen\\Desktop\\Kaggle\\Classifier\\Tabular Playground Series - May 2021'\n",
    "os.chdir(path)"
   ]
  },
  {
   "cell_type": "code",
   "execution_count": 60,
   "id": "eac58004",
   "metadata": {},
   "outputs": [],
   "source": [
    "# load data\n",
    "df_train = pd.read_csv('train.csv')\n",
    "df_test = pd.read_csv('test.csv')"
   ]
  },
  {
   "cell_type": "code",
   "execution_count": 61,
   "id": "b888cd68",
   "metadata": {},
   "outputs": [
    {
     "name": "stdout",
     "output_type": "stream",
     "text": [
      "Index(['feature_1', 'feature_3', 'feature_4', 'feature_8', 'feature_14',\n",
      "       'feature_19', 'feature_21', 'feature_24', 'feature_25', 'feature_30',\n",
      "       'feature_31', 'feature_34', 'feature_37', 'feature_40', 'feature_41',\n",
      "       'feature_45', 'feature_47', 'feature_48', 'feature_49'],\n",
      "      dtype='object')\n"
     ]
    }
   ],
   "source": [
    "df_train.drop('id', axis=1, inplace=True)\n",
    "df_test.drop('id', axis=1, inplace=True)\n",
    "\n",
    "all_data = pd.concat([df_train, df_test]).reset_index(drop=True)\n",
    "\n",
    "# The number of category in each features\n",
    "# print(all_data.nunique())\n",
    "\n",
    "# testing data have new category in below features\n",
    "print(all_data.columns[all_data.nunique() != df_train.nunique()])"
   ]
  },
  {
   "cell_type": "code",
   "execution_count": 78,
   "id": "6483e477",
   "metadata": {},
   "outputs": [],
   "source": [
    "differ = all_data.columns[all_data.nunique() != df_train.nunique()]\n",
    "\n",
    "j = len(df_train)\n",
    "J = len(all_data)\n",
    "\n",
    "# 把新的類別當做 missing value來處理，用 mode補值\n",
    "for col in differ:\n",
    "    mo = all_data[col].mode().values[0]\n",
    "\n",
    "    list_k = df_train[col].unique()\n",
    "    num_k = df_train[col].nunique()\n",
    "\n",
    "    all_data.loc[j:, col] = [all_data.loc[i, col] if all_data.loc[i, col] in list_k else mo for i in range(j,J)]\n"
   ]
  },
  {
   "cell_type": "code",
   "execution_count": 91,
   "id": "bb1e9237",
   "metadata": {},
   "outputs": [
    {
     "name": "stderr",
     "output_type": "stream",
     "text": [
      "'n_jobs' was deprecated in version 0.23 and will be removed in 1.0 (renaming of 0.25).\n"
     ]
    }
   ],
   "source": [
    "# Encoding and transform\n",
    "onehot_col = all_data.columns[(all_data.nunique() <= 15) & (all_data.columns != 'target')]\n",
    "label_col = all_data.columns[all_data.nunique() > 15]\n",
    "target = 'target'\n",
    "\n",
    "def label_encoder(c):\n",
    "    le = LabelEncoder()\n",
    "    return le.fit_transform(c)\n",
    "\n",
    "df_onehot = pd.get_dummies(all_data[onehot_col])\n",
    "\n",
    "# df_label = all_data[label_col].apply(label_encoder)\n",
    "scaler = StandardScaler()\n",
    "df_label = pd.DataFrame(scaler.fit_transform(all_data[label_col]), columns=label_col)\n",
    "\n",
    "all_data = pd.concat([df_onehot, df_label], axis=1)\n",
    "\n",
    "# create new feature by Kmean cluster\n",
    "clus = KMeans(n_clusters=4, random_state=42, max_iter=1000, n_jobs=-1)\n",
    "clus.fit(all_data)\n",
    "all_data['kmeans'] = clus.labels_"
   ]
  },
  {
   "cell_type": "code",
   "execution_count": 97,
   "id": "915e2e86",
   "metadata": {},
   "outputs": [],
   "source": [
    "# target labelling\n",
    "f = LabelEncoder()\n",
    "f.fit(df_train['target'])\n",
    "y = f.transform(df_train['target'])\n",
    "y = pd.DataFrame(y).astype('int64')\n",
    "\n",
    "x = all_data[:len(df_train)]\n",
    "x = x.astype('float64')\n",
    "\n",
    "df_test = all_data.loc[len(df_train):, col]"
   ]
  },
  {
   "cell_type": "code",
   "execution_count": 5,
   "id": "eb77e460",
   "metadata": {},
   "outputs": [],
   "source": [
    "# construct model\n",
    "# AutoML : mljar\n",
    "RESULTS_PATH = 'mljar-20210522'\n",
    "\n",
    "cv = {\"validation_type\": \"kfold\",\n",
    "      \"k_folds\": 5,\n",
    "      \"shuffle\": True,\n",
    "      \"stratify\": True,\n",
    "      \"random_seed\": 42}\n",
    "\n",
    "automl = AutoML(results_path=RESULTS_PATH,\n",
    "                mode=\"Optuna\",                          # or 'Explain', 'Perform', 'Compete'\n",
    "                ml_task='multiclass_classification',   # or 'auto', 'binary_classification', 'regression'\n",
    "                algorithms=['Baseline', 'Linear', 'Decision Tree', 'Random Forest', 'Extra Trees', 'LightGBM', 'Xgboost', 'CatBoost', 'Neural Network', 'Nearest Neighbors'],\n",
    "                train_ensemble=True,\n",
    "                stack_models=True,\n",
    "                eval_metric='logloss',\n",
    "                validation_strategy=cv,\n",
    "                golden_features=True,\n",
    "                boost_on_errors=True,\n",
    "                optuna_time_budget=40*60,\n",
    "                total_time_limit=3*60*60,\n",
    "                optuna_verbose=False,\n",
    "                n_jobs=-1,\n",
    "                random_state=42)"
   ]
  },
  {
   "cell_type": "code",
   "execution_count": 6,
   "id": "b27311b0",
   "metadata": {
    "collapsed": true
   },
   "outputs": [
    {
     "name": "stdout",
     "output_type": "stream",
     "text": [
      "Linear algorithm was disabled.\n",
      "AutoML directory: mljar-20210522\n",
      "Expected computing time:\n",
      "Total training time: Optuna + ML training = 32400 seconds\n",
      "Total Optuna time: len(algorithms) * optuna_time_budget = 21600 seconds\n",
      "Total ML model training time: 10800 seconds\n",
      "The task is multiclass_classification with evaluation metric logloss\n",
      "AutoML will use algorithms: ['Baseline', 'Decision Tree', 'Random Forest', 'Extra Trees', 'LightGBM', 'Xgboost', 'CatBoost', 'Neural Network', 'Nearest Neighbors']\n",
      "AutoML will stack models\n",
      "AutoML will ensemble availabe models\n",
      "AutoML steps: ['simple_algorithms', 'default_algorithms', 'golden_features', 'boost_on_errors', 'ensemble', 'stack', 'ensemble_stacked']\n",
      "* Step simple_algorithms will try to check up to 2 models\n",
      "1_Baseline: trained.\n",
      "2_DecisionTree: trained.\n",
      "* Step default_algorithms will try to check up to 7 models\n",
      "3_Optuna_LightGBM logloss 1.091289 trained in 149.04 seconds\n",
      "4_Optuna_Xgboost logloss 1.091257 trained in 338.09 seconds\n",
      "5_Optuna_CatBoost logloss 1.091555 trained in 131.76 seconds\n",
      "Skip golden_features because of the time limit.\n",
      "Skip boost_on_errors because of the time limit.\n",
      "* Step ensemble will try to check up to 1 model\n",
      "Ensemble logloss 1.090627 trained in 6.93 seconds\n",
      "* Step stack will try to check up to 3 models\n",
      "4_Optuna_Xgboost_Stacked logloss 1.092665 trained in 218.52 seconds\n",
      "3_Optuna_LightGBM_Stacked logloss 1.090798 trained in 49.49 seconds\n",
      "5_Optuna_CatBoost_Stacked logloss 1.0899 trained in 37.23 seconds\n",
      "* Step ensemble_stacked will try to check up to 1 model\n",
      "Ensemble_Stacked logloss 1.089707 trained in 8.62 seconds\n"
     ]
    },
    {
     "name": "stderr",
     "output_type": "stream",
     "text": [
      "An input array is constant; the correlation coefficent is not defined.\n"
     ]
    },
    {
     "name": "stdout",
     "output_type": "stream",
     "text": [
      "AutoML fit time: 8231.03 seconds\n",
      "AutoML best model: Ensemble_Stacked\n"
     ]
    },
    {
     "data": {
      "text/plain": [
       "AutoML(algorithms=['Baseline', 'Linear', 'Decision Tree', 'Random Forest',\n",
       "                   'Extra Trees', 'LightGBM', 'Xgboost', 'CatBoost',\n",
       "                   'Neural Network', 'Nearest Neighbors'],\n",
       "       boost_on_errors=True, eval_metric='logloss', golden_features=True,\n",
       "       ml_task='multiclass_classification', mode='Optuna',\n",
       "       optuna_time_budget=2400, optuna_verbose=False, random_state=42,\n",
       "       results_path='mljar-20210522', stack_models=True, total_time_limit=10800,\n",
       "       validation_strategy={'k_folds': 5, 'random_seed': 42, 'shuffle': True,\n",
       "                            'stratify': True, 'validation_type': 'kfold'})"
      ]
     },
     "execution_count": 6,
     "metadata": {},
     "output_type": "execute_result"
    }
   ],
   "source": [
    "# training model\n",
    "automl.fit(x, y)"
   ]
  },
  {
   "cell_type": "code",
   "execution_count": 7,
   "id": "f3b872cc",
   "metadata": {},
   "outputs": [],
   "source": [
    "# load well-trained model\n",
    "automl = AutoML(results_path=RESULTS_PATH)"
   ]
  },
  {
   "cell_type": "code",
   "execution_count": 8,
   "id": "2c8f0102",
   "metadata": {},
   "outputs": [],
   "source": [
    "# predict probability\n",
    "x_test = df_test\n",
    "x_test = x_test.astype('float64')\n",
    "result = automl.predict_proba(x_test)"
   ]
  },
  {
   "cell_type": "code",
   "execution_count": 9,
   "id": "3bcb3b41",
   "metadata": {},
   "outputs": [],
   "source": [
    "# submission\n",
    "sub = pd.read_csv('sample_submission.csv')\n",
    "sub[sub.columns[1:]] = result\n",
    "sub.to_csv(f'{RESULTS_PATH}.csv', index=False)"
   ]
  }
 ],
 "metadata": {
  "kernelspec": {
   "display_name": "Python 3",
   "language": "python",
   "name": "python3"
  },
  "language_info": {
   "codemirror_mode": {
    "name": "ipython",
    "version": 3
   },
   "file_extension": ".py",
   "mimetype": "text/x-python",
   "name": "python",
   "nbconvert_exporter": "python",
   "pygments_lexer": "ipython3",
   "version": "3.7.9"
  }
 },
 "nbformat": 4,
 "nbformat_minor": 5
}
